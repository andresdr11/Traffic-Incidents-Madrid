{
 "cells": [
  {
   "cell_type": "markdown",
   "id": "9e35d915",
   "metadata": {},
   "source": [
    "## Accidentes de Tráfico en Madrid\n",
    "\n",
    "* Accederemos a los datos de accidentes de tráfico de Madrid durante 2019.\n",
    "* Realizaremos un análisis exploratorio inicial y una limpieza de los datos para poder utilizarlos para responder nuestras inquietudes:\n",
    "\n",
    "* ¿Cuántos accidentes hubo en Madrid en 2019 por cada tipo de vehículo? ¿Cuántas personas se vieron involucradas y en qué rol? \n",
    "* ¿Cuál es la distribución de accidentes por sexo y por edad? ¿En qué distritos de Madrid se producen más y menos accidentes?"
   ]
  },
  {
   "cell_type": "code",
   "execution_count": 183,
   "id": "23ba72da",
   "metadata": {},
   "outputs": [],
   "source": [
    "import pandas as pd\n",
    "import numpy as np\n",
    "import matplotlib.pyplot as plt\n",
    "import seaborn as sns"
   ]
  },
  {
   "cell_type": "code",
   "execution_count": 184,
   "id": "a0f3db66",
   "metadata": {},
   "outputs": [
    {
     "data": {
      "text/html": [
       "<div>\n",
       "<style scoped>\n",
       "    .dataframe tbody tr th:only-of-type {\n",
       "        vertical-align: middle;\n",
       "    }\n",
       "\n",
       "    .dataframe tbody tr th {\n",
       "        vertical-align: top;\n",
       "    }\n",
       "\n",
       "    .dataframe thead th {\n",
       "        text-align: right;\n",
       "    }\n",
       "</style>\n",
       "<table border=\"1\" class=\"dataframe\">\n",
       "  <thead>\n",
       "    <tr style=\"text-align: right;\">\n",
       "      <th></th>\n",
       "      <th>Nº  EXPEDIENTE</th>\n",
       "      <th>FECHA</th>\n",
       "      <th>HORA</th>\n",
       "      <th>CALLE</th>\n",
       "      <th>NÚMERO</th>\n",
       "      <th>DISTRITO</th>\n",
       "      <th>TIPO ACCIDENTE</th>\n",
       "      <th>ESTADO METEREOLÓGICO</th>\n",
       "      <th>TIPO VEHÍCULO</th>\n",
       "      <th>TIPO PERSONA</th>\n",
       "      <th>RANGO EDAD</th>\n",
       "      <th>SEXO</th>\n",
       "      <th>LESIVIDAD*</th>\n",
       "      <th>* La correspondencia de los códigos se encuentra descrito en la estructura del fichero.</th>\n",
       "    </tr>\n",
       "  </thead>\n",
       "  <tbody>\n",
       "    <tr>\n",
       "      <th>0</th>\n",
       "      <td>2019S000020</td>\n",
       "      <td>01/01/2019</td>\n",
       "      <td>23:30</td>\n",
       "      <td>CALL. FUENCARRAL</td>\n",
       "      <td>149</td>\n",
       "      <td>CHAMBERÍ</td>\n",
       "      <td>Caída</td>\n",
       "      <td>Despejado</td>\n",
       "      <td>Ciclomotor</td>\n",
       "      <td>Conductor</td>\n",
       "      <td>DE 25 A 29 AÑOS</td>\n",
       "      <td>Hombre</td>\n",
       "      <td>1.0</td>\n",
       "      <td>NaN</td>\n",
       "    </tr>\n",
       "    <tr>\n",
       "      <th>1</th>\n",
       "      <td>2019S000017</td>\n",
       "      <td>01/01/2019</td>\n",
       "      <td>22:15</td>\n",
       "      <td>CALL. OCA / CALL. PINZON</td>\n",
       "      <td>-</td>\n",
       "      <td>CARABANCHEL</td>\n",
       "      <td>Colisión fronto-lateral</td>\n",
       "      <td>Despejado</td>\n",
       "      <td>Turismo</td>\n",
       "      <td>Conductor</td>\n",
       "      <td>DE 40 A 44 AÑOS</td>\n",
       "      <td>Mujer</td>\n",
       "      <td>14.0</td>\n",
       "      <td>NaN</td>\n",
       "    </tr>\n",
       "    <tr>\n",
       "      <th>2</th>\n",
       "      <td>2019S000017</td>\n",
       "      <td>01/01/2019</td>\n",
       "      <td>22:15</td>\n",
       "      <td>CALL. OCA / CALL. PINZON</td>\n",
       "      <td>-</td>\n",
       "      <td>CARABANCHEL</td>\n",
       "      <td>Colisión fronto-lateral</td>\n",
       "      <td>Despejado</td>\n",
       "      <td>Ciclomotor</td>\n",
       "      <td>Conductor</td>\n",
       "      <td>DE 35 A 39 AÑOS</td>\n",
       "      <td>Hombre</td>\n",
       "      <td>3.0</td>\n",
       "      <td>NaN</td>\n",
       "    </tr>\n",
       "    <tr>\n",
       "      <th>3</th>\n",
       "      <td>2019S001812</td>\n",
       "      <td>01/01/2019</td>\n",
       "      <td>21:40</td>\n",
       "      <td>CALL. BAILEN / CUSTA. SAN VICENTE</td>\n",
       "      <td>-</td>\n",
       "      <td>CENTRO</td>\n",
       "      <td>Colisión fronto-lateral</td>\n",
       "      <td>Despejado</td>\n",
       "      <td>Turismo</td>\n",
       "      <td>Conductor</td>\n",
       "      <td>DE 40 A 44 AÑOS</td>\n",
       "      <td>Hombre</td>\n",
       "      <td>14.0</td>\n",
       "      <td>NaN</td>\n",
       "    </tr>\n",
       "    <tr>\n",
       "      <th>4</th>\n",
       "      <td>2019S001812</td>\n",
       "      <td>01/01/2019</td>\n",
       "      <td>21:40</td>\n",
       "      <td>CALL. BAILEN / CUSTA. SAN VICENTE</td>\n",
       "      <td>-</td>\n",
       "      <td>CENTRO</td>\n",
       "      <td>Colisión fronto-lateral</td>\n",
       "      <td>Despejado</td>\n",
       "      <td>Turismo</td>\n",
       "      <td>Conductor</td>\n",
       "      <td>DE 30 A 34 AÑOS</td>\n",
       "      <td>Mujer</td>\n",
       "      <td>7.0</td>\n",
       "      <td>NaN</td>\n",
       "    </tr>\n",
       "  </tbody>\n",
       "</table>\n",
       "</div>"
      ],
      "text/plain": [
       "  Nº  EXPEDIENTE       FECHA   HORA                              CALLE NÚMERO  \\\n",
       "0    2019S000020  01/01/2019  23:30                   CALL. FUENCARRAL    149   \n",
       "1    2019S000017  01/01/2019  22:15           CALL. OCA / CALL. PINZON      -   \n",
       "2    2019S000017  01/01/2019  22:15           CALL. OCA / CALL. PINZON      -   \n",
       "3    2019S001812  01/01/2019  21:40  CALL. BAILEN / CUSTA. SAN VICENTE      -   \n",
       "4    2019S001812  01/01/2019  21:40  CALL. BAILEN / CUSTA. SAN VICENTE      -   \n",
       "\n",
       "      DISTRITO           TIPO ACCIDENTE ESTADO METEREOLÓGICO TIPO VEHÍCULO  \\\n",
       "0     CHAMBERÍ                    Caída            Despejado    Ciclomotor   \n",
       "1  CARABANCHEL  Colisión fronto-lateral            Despejado       Turismo   \n",
       "2  CARABANCHEL  Colisión fronto-lateral            Despejado    Ciclomotor   \n",
       "3       CENTRO  Colisión fronto-lateral            Despejado       Turismo   \n",
       "4       CENTRO  Colisión fronto-lateral            Despejado       Turismo   \n",
       "\n",
       "  TIPO PERSONA       RANGO EDAD    SEXO  LESIVIDAD*  \\\n",
       "0    Conductor  DE 25 A 29 AÑOS  Hombre         1.0   \n",
       "1    Conductor  DE 40 A 44 AÑOS   Mujer        14.0   \n",
       "2    Conductor  DE 35 A 39 AÑOS  Hombre         3.0   \n",
       "3    Conductor  DE 40 A 44 AÑOS  Hombre        14.0   \n",
       "4    Conductor  DE 30 A 34 AÑOS   Mujer         7.0   \n",
       "\n",
       "   * La correspondencia de los códigos se encuentra descrito en la estructura del fichero.  \n",
       "0                                                NaN                                        \n",
       "1                                                NaN                                        \n",
       "2                                                NaN                                        \n",
       "3                                                NaN                                        \n",
       "4                                                NaN                                        "
      ]
     },
     "execution_count": 184,
     "metadata": {},
     "output_type": "execute_result"
    }
   ],
   "source": [
    "accidentes_raw = pd.read_csv(r'C:\\Users\\andre\\OneDrive\\Documentos\\IMF Data science\\Mini Projects\\Modulo 2\\accidentes2019.csv', encoding='latin1', sep= ';')\n",
    "accidentes_raw.head()"
   ]
  },
  {
   "cell_type": "markdown",
   "id": "1e548d25",
   "metadata": {},
   "source": [
    "## Limpieza de datos"
   ]
  },
  {
   "cell_type": "markdown",
   "id": "bf825bb7",
   "metadata": {},
   "source": [
    "Vamos a analizar y limpiar columna por columna, ya que vemos que cada una es un caso distinto. Para facilitarlo, escribimos una pequeña función que nos proporciona los datos más relevantes para esa limpieza"
   ]
  },
  {
   "cell_type": "code",
   "execution_count": 185,
   "id": "47bce223",
   "metadata": {},
   "outputs": [
    {
     "name": "stdout",
     "output_type": "stream",
     "text": [
      "Columna: Nº  EXPEDIENTE  -  Tipo de datos: object\n",
      "Numero de valores nulos: 0  -  Numero de valores distintos: 21935\n",
      "Valores mas frecuentes:\n",
      "2019S036555 \t 13\n",
      "2019S000625 \t 12\n",
      "2019S032214 \t 12\n",
      "2019S028162 \t 12\n",
      "2019S029891 \t 12\n",
      "2019S013324 \t 12\n",
      "2019S038336 \t 12\n",
      "2019S022757 \t 11\n",
      "2019S022408 \t 11\n",
      "2019S017281 \t 11\n"
     ]
    }
   ],
   "source": [
    "def describe_columna(df, col):\n",
    "    print(f'Columna: {col}  -  Tipo de datos: {df[col].dtype}')\n",
    "    print(f'Numero de valores nulos: {df[col].isnull().sum()}  -  Numero de valores distintos: {df[col].nunique()}')\n",
    "    print('Valores mas frecuentes:')\n",
    "    for i, v in df[col].value_counts().iloc[:10].items():\n",
    "          print(i, '\\t', v)\n",
    "describe_columna(accidentes_raw, 'Nº  EXPEDIENTE')"
   ]
  },
  {
   "cell_type": "code",
   "execution_count": 186,
   "id": "c6badaab",
   "metadata": {},
   "outputs": [
    {
     "data": {
      "text/plain": [
       "PASEO. CASTELLANA                                       719\n",
       "CALL. ALCALA                                            646\n",
       "CALL. BRAVO MURILLO                                     265\n",
       "AVDA. ALBUFERA                                          264\n",
       "CALL. FRANCISCO SILVELA                                 179\n",
       "                                                       ... \n",
       "AUTOV. M-30, C-2 PK 0.500                                 1\n",
       "CALL. MARGARITA DE PARMA / CALL. MARIA DE PORTUGAL        1\n",
       "AVDA. SUR DEL AEROPUERTO DE BARAJAS / CALL. ZAOREJAS      1\n",
       "PLAZA. SANTA CRUZ                                         1\n",
       "CALL. VITRUVIO / PASEO. CASTELLANA                        1\n",
       "Name: CALLE, Length: 10456, dtype: int64"
      ]
     },
     "execution_count": 186,
     "metadata": {},
     "output_type": "execute_result"
    }
   ],
   "source": [
    "accidentes_raw['CALLE'].value_counts()"
   ]
  },
  {
   "cell_type": "code",
   "execution_count": 187,
   "id": "7bfdf4e1",
   "metadata": {},
   "outputs": [
    {
     "name": "stdout",
     "output_type": "stream",
     "text": [
      "Columna: Nº  EXPEDIENTE  -  Tipo de datos: object\n",
      "Numero de valores nulos: 0  -  Numero de valores distintos: 21935\n",
      "Valores mas frecuentes:\n",
      "2019S036555  13\n",
      "2019S000625  12\n",
      "2019S032214  12\n",
      "2019S028162  12\n",
      "2019S029891  12\n",
      "2019S013324  12\n",
      "2019S038336  12\n",
      "2019S022757  11\n",
      "2019S022408  11\n",
      "2019S017281  11\n"
     ]
    }
   ],
   "source": [
    "def describe_columna(df, col):\n",
    "    print(f'Columna: {col}  -  Tipo de datos: {df[col].dtype}')\n",
    "    print(f'Numero de valores nulos: {df[col].isnull().sum()}  -  Numero de valores distintos: {df[col].nunique()}')\n",
    "    print('Valores mas frecuentes:')\n",
    "    for i, v in df[col].value_counts().iloc[:10].items():\n",
    "        print(i,'',v)\n",
    "describe_columna(accidentes_raw, 'Nº  EXPEDIENTE')"
   ]
  },
  {
   "cell_type": "markdown",
   "id": "52839428",
   "metadata": {},
   "source": [
    "Nada particulamente interesante en esta columna. Vemos que el número de expediente no es único (el valor más usado, el primero de la lista de valores, se usa un total de 13 veces): leyendo el documento de descripción de los datos, o simplemente inspeccionando los datos, podemos ver que el número de expediente identifica un accidente, pero en él pueden haber estado involucrados varios vehículos o más de una persona, y para cada uno de ellos existe una línea en este fichero. El número de accidentes, por lo tanto, no es el número de filas del fichero, sino el número de valores únicos del campo Nº  EXPEDIENTE."
   ]
  },
  {
   "cell_type": "markdown",
   "id": "ccd09002",
   "metadata": {},
   "source": [
    "El unico cambio que realizaremos en esta columna de EXPEDIENTE será corregir el nombre del campo para que no tenga doble espacio entre 'Nº' y 'EXPEDIENTE' y pasar el nombre a minusculas"
   ]
  },
  {
   "cell_type": "code",
   "execution_count": 188,
   "id": "e704b552",
   "metadata": {},
   "outputs": [
    {
     "data": {
      "text/plain": [
       "Index(['Nº Expediente', 'FECHA', 'HORA', 'CALLE', 'NÚMERO', 'DISTRITO',\n",
       "       'TIPO ACCIDENTE', 'ESTADO METEREOLÓGICO', 'TIPO VEHÍCULO',\n",
       "       'TIPO PERSONA', 'RANGO EDAD', 'SEXO', 'LESIVIDAD*',\n",
       "       '* La correspondencia de los códigos se encuentra descrito en la estructura del fichero.'],\n",
       "      dtype='object')"
      ]
     },
     "execution_count": 188,
     "metadata": {},
     "output_type": "execute_result"
    }
   ],
   "source": [
    "accidentes_raw.rename(columns={'Nº  EXPEDIENTE': 'Nº Expediente'}, inplace=True)\n",
    "accidentes_raw.columns\n",
    "#Se ha realizado el cambio correctamente"
   ]
  },
  {
   "cell_type": "markdown",
   "id": "07517a76",
   "metadata": {},
   "source": [
    "Continuamos con las siguientes columnas"
   ]
  },
  {
   "cell_type": "code",
   "execution_count": 189,
   "id": "9e227977",
   "metadata": {},
   "outputs": [
    {
     "name": "stdout",
     "output_type": "stream",
     "text": [
      "Columna: CALLE  -  Tipo de datos: object\n",
      "Numero de valores nulos: 0  -  Numero de valores distintos: 10456\n",
      "Valores mas frecuentes:\n",
      "PASEO. CASTELLANA  719\n",
      "CALL. ALCALA  646\n",
      "CALL. BRAVO MURILLO  265\n",
      "AVDA. ALBUFERA  264\n",
      "CALL. FRANCISCO SILVELA  179\n",
      "CALL. SERRANO  177\n",
      "PASEO. SANTA MARIA DE LA CABEZA  169\n",
      "PASEO. EXTREMADURA  167\n",
      "CALL. PRINCIPE DE VERGARA  167\n",
      "CALL. DOCTOR ESQUERDO  153\n"
     ]
    }
   ],
   "source": [
    "describe_columna(accidentes_raw, 'CALLE')"
   ]
  },
  {
   "cell_type": "code",
   "execution_count": 190,
   "id": "106ab328",
   "metadata": {},
   "outputs": [
    {
     "data": {
      "text/plain": [
       "Index(['Nº Expediente', 'FECHA', 'HORA', 'Calle', 'NÚMERO', 'DISTRITO',\n",
       "       'TIPO ACCIDENTE', 'ESTADO METEREOLÓGICO', 'TIPO VEHÍCULO',\n",
       "       'TIPO PERSONA', 'RANGO EDAD', 'SEXO', 'LESIVIDAD*',\n",
       "       '* La correspondencia de los códigos se encuentra descrito en la estructura del fichero.'],\n",
       "      dtype='object')"
      ]
     },
     "execution_count": 190,
     "metadata": {},
     "output_type": "execute_result"
    }
   ],
   "source": [
    "#Cambiemos el nombre de la columna de 'CALLE' a 'Calle'\n",
    "accidentes_raw.rename(columns={'CALLE': 'Calle'}, inplace=True)\n",
    "accidentes_raw.columns"
   ]
  },
  {
   "cell_type": "code",
   "execution_count": 191,
   "id": "09bfa19a",
   "metadata": {},
   "outputs": [
    {
     "name": "stdout",
     "output_type": "stream",
     "text": [
      "Columna: NÚMERO  -  Tipo de datos: object\n",
      "Numero de valores nulos: 4  -  Numero de valores distintos: 604\n",
      "Valores mas frecuentes:\n",
      "-  28523\n",
      "1  1489\n",
      "2  1077\n",
      "3  701\n",
      "4  642\n",
      "0  519\n",
      "7  494\n",
      "5  448\n",
      "8  421\n",
      "6  388\n"
     ]
    }
   ],
   "source": [
    "describe_columna(accidentes_raw, 'NÚMERO')"
   ]
  },
  {
   "cell_type": "markdown",
   "id": "56bd0f4a",
   "metadata": {},
   "source": [
    "Podría ser buena idea convertir el campo \"Número\" a tipo numérico en vez de objeto, comprobemos si todos los datos de esta columna podrían pasarse a numérico"
   ]
  },
  {
   "cell_type": "code",
   "execution_count": 192,
   "id": "ec95a13d",
   "metadata": {},
   "outputs": [
    {
     "data": {
      "text/plain": [
       "False    29306\n",
       "True     22496\n",
       "Name: NÚMERO, dtype: int64"
      ]
     },
     "execution_count": 192,
     "metadata": {},
     "output_type": "execute_result"
    }
   ],
   "source": [
    "accidentes_raw['NÚMERO'].str.isnumeric().value_counts()\n",
    "# Hay 29,306 instancias donde el valor en la columna 'NÚMERO' no es numérico\n",
    "# 22496 donde si lo es."
   ]
  },
  {
   "cell_type": "markdown",
   "id": "3abc5218",
   "metadata": {},
   "source": [
    "Comprobemos que tienen esos 29306 campos que no son numéricos"
   ]
  },
  {
   "cell_type": "code",
   "execution_count": 193,
   "id": "7325be97",
   "metadata": {},
   "outputs": [
    {
     "data": {
      "text/plain": [
       "-        28523\n",
       " 1A         68\n",
       " 5A         35\n",
       " 2A         30\n",
       " 259A       19\n",
       "         ...  \n",
       " 246C        1\n",
       " 200A        1\n",
       " 4H          1\n",
       " T-3         1\n",
       " 150A        1\n",
       "Name: NÚMERO, Length: 161, dtype: int64"
      ]
     },
     "execution_count": 193,
     "metadata": {},
     "output_type": "execute_result"
    }
   ],
   "source": [
    "non_numeric = accidentes_raw[accidentes_raw['NÚMERO'].str.isnumeric() == False]['NÚMERO'].value_counts()\n",
    "non_numeric"
   ]
  },
  {
   "cell_type": "markdown",
   "id": "81fa99bb",
   "metadata": {},
   "source": [
    "Vemos que aunque se llama NÚMERO contiene valores que son cadenas de texto como '1A'. También vemos que hay un valor muy frecuente '-' que se está utilizando para indicat que no hay información disponible.\n",
    "A falta de datos lo mejor es utilizar el mecanismo estándar de Pandas, los valores NaN."
   ]
  },
  {
   "cell_type": "code",
   "execution_count": 194,
   "id": "e517f969",
   "metadata": {},
   "outputs": [],
   "source": [
    "accidentes_raw.rename(columns={'NÚMERO': 'Número'}, inplace=True)\n",
    "\n",
    "accidentes_raw['Número'] = accidentes_raw['Número'].replace('-', np.NaN)"
   ]
  },
  {
   "cell_type": "markdown",
   "id": "f6fe10a2",
   "metadata": {},
   "source": [
    "Siguiente Columna..."
   ]
  },
  {
   "cell_type": "code",
   "execution_count": 195,
   "id": "9c16db38",
   "metadata": {},
   "outputs": [
    {
     "name": "stdout",
     "output_type": "stream",
     "text": [
      "Columna: DISTRITO  -  Tipo de datos: object\n",
      "Numero de valores nulos: 5  -  Numero de valores distintos: 21\n",
      "Valores mas frecuentes:\n",
      "SALAMANCA  4078\n",
      "PUENTE DE VALLECAS  4063\n",
      "CHAMARTÍN  3891\n",
      "CARABANCHEL  3365\n",
      "CIUDAD LINEAL  3362\n",
      "SAN BLAS-CANILLEJAS  2797\n",
      "CENTRO  2752\n",
      "MONCLOA-ARAVACA  2688\n",
      "CHAMBERÍ  2680\n",
      "RETIRO  2671\n"
     ]
    }
   ],
   "source": [
    "describe_columna(accidentes_raw, 'DISTRITO')"
   ]
  },
  {
   "cell_type": "code",
   "execution_count": 196,
   "id": "f4c03acb",
   "metadata": {},
   "outputs": [],
   "source": [
    "accidentes_raw.rename(columns={'DISTRITO': 'Distrito'}, inplace = True)\n",
    "#Los 5 valores nulos ya están como NaN"
   ]
  },
  {
   "cell_type": "markdown",
   "id": "e9516c89",
   "metadata": {},
   "source": [
    "Como el número de valores únicos de este campo es pequeño, y además los valores posibles están limitados, conviene convertir el valor a tipo \"category\", ya que esto reduce el almacenamiento necesario, acelera los cálculos y facilita el análisis"
   ]
  },
  {
   "cell_type": "code",
   "execution_count": 197,
   "id": "9203026e",
   "metadata": {},
   "outputs": [],
   "source": [
    "accidentes_raw['Distrito'] = accidentes_raw['Distrito'].astype('category')"
   ]
  },
  {
   "cell_type": "markdown",
   "id": "5f87d6f1",
   "metadata": {},
   "source": [
    "Siguiente columna..."
   ]
  },
  {
   "cell_type": "code",
   "execution_count": 198,
   "id": "8d236707",
   "metadata": {},
   "outputs": [
    {
     "name": "stdout",
     "output_type": "stream",
     "text": [
      "Columna: Estado Metereológico  -  Tipo de datos: object\n",
      "Numero de valores nulos: 5132  -  Numero de valores distintos: 7\n",
      "Valores mas frecuentes:\n",
      "Despejado  39984\n",
      "Lluvia débil  3465\n",
      "Nublado  1862\n",
      "Se desconoce  695\n",
      "LLuvia intensa  652\n",
      "Granizando  14\n",
      "Nevando  2\n"
     ]
    }
   ],
   "source": [
    "accidentes_raw.rename(columns={'ESTADO METEREOLÓGICO': 'Estado Metereológico'}, inplace=True)\n",
    "describe_columna(accidentes_raw, 'Estado Metereológico')\n",
    "#Los valores nulos ya están como NaN"
   ]
  },
  {
   "cell_type": "code",
   "execution_count": 199,
   "id": "3519f791",
   "metadata": {},
   "outputs": [],
   "source": [
    "# En las filas donde aparece 'Se desconoce' realmente es que no tenemos datos por lo tanto cambiaremos esto por valores NaN también\n",
    "accidentes_raw['Estado Metereológico'] = accidentes_raw['Estado Metereológico'].replace('Se desconoce', np.NaN)"
   ]
  },
  {
   "cell_type": "markdown",
   "id": "ec679178",
   "metadata": {},
   "source": [
    "Siguiente Columna..."
   ]
  },
  {
   "cell_type": "code",
   "execution_count": 200,
   "id": "8583b2f7",
   "metadata": {},
   "outputs": [
    {
     "name": "stdout",
     "output_type": "stream",
     "text": [
      "Columna: Rango Edad  -  Tipo de datos: object\n",
      "Numero de valores nulos: 0  -  Numero de valores distintos: 18\n",
      "Valores mas frecuentes:\n",
      "DE 40 A 44 AÑOS  5736\n",
      "DE 25 A 29 AÑOS  5610\n",
      "DE 35 A 39 AÑOS  5573\n",
      "DE 30 A 34 AÑOS  5463\n",
      "DESCONOCIDA  5333\n",
      "DE 45 A 49 AÑOS  4955\n",
      "DE 50 A 54 AÑOS  4258\n",
      "DE 21 A 24 AÑOS  3350\n",
      "DE 55 A 59 AÑOS  3265\n",
      "DE 60 A 64 AÑOS  2036\n"
     ]
    }
   ],
   "source": [
    "accidentes_raw.rename(columns={'RANGO EDAD': 'Rango Edad'}, inplace=True)\n",
    "describe_columna(accidentes_raw, 'Rango Edad')"
   ]
  },
  {
   "cell_type": "code",
   "execution_count": 201,
   "id": "b1f6aa42",
   "metadata": {},
   "outputs": [
    {
     "name": "stdout",
     "output_type": "stream",
     "text": [
      "Columna: Rango Edad  -  Tipo de datos: object\n",
      "Numero de valores nulos: 5333  -  Numero de valores distintos: 17\n",
      "Valores mas frecuentes:\n",
      "DE 40 A 44 AÑOS  5736\n",
      "DE 25 A 29 AÑOS  5610\n",
      "DE 35 A 39 AÑOS  5573\n",
      "DE 30 A 34 AÑOS  5463\n",
      "DE 45 A 49 AÑOS  4955\n",
      "DE 50 A 54 AÑOS  4258\n",
      "DE 21 A 24 AÑOS  3350\n",
      "DE 55 A 59 AÑOS  3265\n",
      "DE 60 A 64 AÑOS  2036\n",
      "DE 18 A 20 AÑOS  1534\n"
     ]
    }
   ],
   "source": [
    "#Cambiamos 'DESCONOCIDA' a que se presente como valores NaN\n",
    "accidentes_raw['Rango Edad'] = accidentes_raw['Rango Edad'].replace('DESCONOCIDA', np.NaN)\n",
    "\n",
    "describe_columna(accidentes_raw, 'Rango Edad')      "
   ]
  },
  {
   "cell_type": "markdown",
   "id": "acca9cb1",
   "metadata": {},
   "source": [
    "Ultima columna..."
   ]
  },
  {
   "cell_type": "code",
   "execution_count": 202,
   "id": "2a504acc",
   "metadata": {},
   "outputs": [
    {
     "name": "stdout",
     "output_type": "stream",
     "text": [
      "Columna: Lesividad  -  Tipo de datos: float64\n",
      "Numero de valores nulos: 21776  -  Numero de valores distintos: 9\n",
      "Valores mas frecuentes:\n",
      "14.0  16599\n",
      "7.0  7110\n",
      "2.0  2157\n",
      "6.0  1555\n",
      "1.0  1320\n",
      "5.0  715\n",
      "3.0  539\n",
      "4.0  34\n",
      "77.0  1\n"
     ]
    }
   ],
   "source": [
    "accidentes_raw.rename(columns={'LESIVIDAD*': 'Lesividad'}, inplace=True)\n",
    "describe_columna(accidentes_raw, 'Lesividad')"
   ]
  },
  {
   "cell_type": "markdown",
   "id": "1cb558f9",
   "metadata": {},
   "source": [
    "El campo \"LESIVIDAD*\" presenta un caso interesante: los valores están codificados, y la clave para entenderlos está en el documento de explicación de los datos. Allí se describen los valores de esta manera:\n",
    "\n",
    "LESIVIDAD | Descripción\n",
    "--- | --- \n",
    "01        |  Atención en urgencias sin posterior ingreso. - LEVE\n",
    "02        |  Ingreso inferior o igual a 24 horas - LEVE \n",
    "03        |  Ingreso superior a 24 horas. - GRAVE\n",
    "04        |  Fallecido 24 horas - FALLECIDO\n",
    "05        |  Asistencia sanitaria ambulatoria con posterioridad - LEVE\n",
    "06        |  Asistencia sanitaria inmediata en centro de salud o mutua - LEVE\n",
    "07        |  Asistencia sanitaria sólo en el lugar del accidente - LEVE\n",
    "14        |  Sin asistencia sanitaria\n",
    "77        |  Se desconoce\n",
    "En blanco |  Sin asistencia sanitaria"
   ]
  },
  {
   "cell_type": "markdown",
   "id": "8a342ac7",
   "metadata": {},
   "source": [
    "Asignaremos los valores en blanco leidos en la columna Lesividad con NaN a la categoría 14, y los valores de la categoría 77 los asignaremos como NaN"
   ]
  },
  {
   "cell_type": "code",
   "execution_count": 203,
   "id": "bf969038",
   "metadata": {},
   "outputs": [],
   "source": [
    "#Observamos que en la descripción la Lesividad puede dividirse en 4 grandes grupos:\n",
    "# estos serían: Ileso (Sin asistencia sanitaria), Leve, Grave y Fallecido. \n",
    "# Agruparemos esto más adelante\n",
    "\n",
    "accidentes_raw['Lesividad'] = accidentes_raw['Lesividad'].replace(77, np.NaN)\n",
    "accidentes_raw['Lesividad'] = accidentes_raw['Lesividad'].fillna(14)"
   ]
  },
  {
   "cell_type": "code",
   "execution_count": 204,
   "id": "87627b5a",
   "metadata": {},
   "outputs": [
    {
     "name": "stdout",
     "output_type": "stream",
     "text": [
      "Columna: Lesividad  -  Tipo de datos: float64\n",
      "Numero de valores nulos: 0  -  Numero de valores distintos: 8\n",
      "Valores mas frecuentes:\n",
      "14.0  38376\n",
      "7.0  7110\n",
      "2.0  2157\n",
      "6.0  1555\n",
      "1.0  1320\n",
      "5.0  715\n",
      "3.0  539\n",
      "4.0  34\n"
     ]
    }
   ],
   "source": [
    "describe_columna(accidentes_raw, 'Lesividad')"
   ]
  },
  {
   "cell_type": "code",
   "execution_count": 205,
   "id": "3e5e9068",
   "metadata": {},
   "outputs": [],
   "source": [
    "# Definición del tipo categórico para los grados de gravedad\n",
    "grados_gravedad = pd.CategoricalDtype(['Ileso', 'Leve', 'Grave', 'Fallecido'], ordered=True)\n",
    "\n",
    "# Definimos un diccionario que mapee los valores del Lesividad con los de Gravedad\n",
    "\n",
    "dict_gravedad = {1: 'Leve', 2: 'Leve', 3: 'Grave', 4: 'Fallecido', 5: 'Leve', 6: 'Leve', 7: 'Leve', 14: 'Ileso'}\n",
    "\n"
   ]
  },
  {
   "cell_type": "code",
   "execution_count": 206,
   "id": "3ab4a770",
   "metadata": {},
   "outputs": [
    {
     "data": {
      "text/html": [
       "<div>\n",
       "<style scoped>\n",
       "    .dataframe tbody tr th:only-of-type {\n",
       "        vertical-align: middle;\n",
       "    }\n",
       "\n",
       "    .dataframe tbody tr th {\n",
       "        vertical-align: top;\n",
       "    }\n",
       "\n",
       "    .dataframe thead th {\n",
       "        text-align: right;\n",
       "    }\n",
       "</style>\n",
       "<table border=\"1\" class=\"dataframe\">\n",
       "  <thead>\n",
       "    <tr style=\"text-align: right;\">\n",
       "      <th></th>\n",
       "      <th>Nº Expediente</th>\n",
       "      <th>FECHA</th>\n",
       "      <th>HORA</th>\n",
       "      <th>Calle</th>\n",
       "      <th>Número</th>\n",
       "      <th>Distrito</th>\n",
       "      <th>TIPO ACCIDENTE</th>\n",
       "      <th>Estado Metereológico</th>\n",
       "      <th>TIPO VEHÍCULO</th>\n",
       "      <th>TIPO PERSONA</th>\n",
       "      <th>Rango Edad</th>\n",
       "      <th>SEXO</th>\n",
       "      <th>Lesividad</th>\n",
       "      <th>* La correspondencia de los códigos se encuentra descrito en la estructura del fichero.</th>\n",
       "      <th>Gravedad</th>\n",
       "    </tr>\n",
       "  </thead>\n",
       "  <tbody>\n",
       "    <tr>\n",
       "      <th>0</th>\n",
       "      <td>2019S000020</td>\n",
       "      <td>01/01/2019</td>\n",
       "      <td>23:30</td>\n",
       "      <td>CALL. FUENCARRAL</td>\n",
       "      <td>149</td>\n",
       "      <td>CHAMBERÍ</td>\n",
       "      <td>Caída</td>\n",
       "      <td>Despejado</td>\n",
       "      <td>Ciclomotor</td>\n",
       "      <td>Conductor</td>\n",
       "      <td>DE 25 A 29 AÑOS</td>\n",
       "      <td>Hombre</td>\n",
       "      <td>1.0</td>\n",
       "      <td>NaN</td>\n",
       "      <td>Leve</td>\n",
       "    </tr>\n",
       "    <tr>\n",
       "      <th>1</th>\n",
       "      <td>2019S000017</td>\n",
       "      <td>01/01/2019</td>\n",
       "      <td>22:15</td>\n",
       "      <td>CALL. OCA / CALL. PINZON</td>\n",
       "      <td>NaN</td>\n",
       "      <td>CARABANCHEL</td>\n",
       "      <td>Colisión fronto-lateral</td>\n",
       "      <td>Despejado</td>\n",
       "      <td>Turismo</td>\n",
       "      <td>Conductor</td>\n",
       "      <td>DE 40 A 44 AÑOS</td>\n",
       "      <td>Mujer</td>\n",
       "      <td>14.0</td>\n",
       "      <td>NaN</td>\n",
       "      <td>Ileso</td>\n",
       "    </tr>\n",
       "    <tr>\n",
       "      <th>2</th>\n",
       "      <td>2019S000017</td>\n",
       "      <td>01/01/2019</td>\n",
       "      <td>22:15</td>\n",
       "      <td>CALL. OCA / CALL. PINZON</td>\n",
       "      <td>NaN</td>\n",
       "      <td>CARABANCHEL</td>\n",
       "      <td>Colisión fronto-lateral</td>\n",
       "      <td>Despejado</td>\n",
       "      <td>Ciclomotor</td>\n",
       "      <td>Conductor</td>\n",
       "      <td>DE 35 A 39 AÑOS</td>\n",
       "      <td>Hombre</td>\n",
       "      <td>3.0</td>\n",
       "      <td>NaN</td>\n",
       "      <td>Grave</td>\n",
       "    </tr>\n",
       "    <tr>\n",
       "      <th>3</th>\n",
       "      <td>2019S001812</td>\n",
       "      <td>01/01/2019</td>\n",
       "      <td>21:40</td>\n",
       "      <td>CALL. BAILEN / CUSTA. SAN VICENTE</td>\n",
       "      <td>NaN</td>\n",
       "      <td>CENTRO</td>\n",
       "      <td>Colisión fronto-lateral</td>\n",
       "      <td>Despejado</td>\n",
       "      <td>Turismo</td>\n",
       "      <td>Conductor</td>\n",
       "      <td>DE 40 A 44 AÑOS</td>\n",
       "      <td>Hombre</td>\n",
       "      <td>14.0</td>\n",
       "      <td>NaN</td>\n",
       "      <td>Ileso</td>\n",
       "    </tr>\n",
       "    <tr>\n",
       "      <th>4</th>\n",
       "      <td>2019S001812</td>\n",
       "      <td>01/01/2019</td>\n",
       "      <td>21:40</td>\n",
       "      <td>CALL. BAILEN / CUSTA. SAN VICENTE</td>\n",
       "      <td>NaN</td>\n",
       "      <td>CENTRO</td>\n",
       "      <td>Colisión fronto-lateral</td>\n",
       "      <td>Despejado</td>\n",
       "      <td>Turismo</td>\n",
       "      <td>Conductor</td>\n",
       "      <td>DE 30 A 34 AÑOS</td>\n",
       "      <td>Mujer</td>\n",
       "      <td>7.0</td>\n",
       "      <td>NaN</td>\n",
       "      <td>Leve</td>\n",
       "    </tr>\n",
       "    <tr>\n",
       "      <th>5</th>\n",
       "      <td>2019S001812</td>\n",
       "      <td>01/01/2019</td>\n",
       "      <td>21:40</td>\n",
       "      <td>CALL. BAILEN / CUSTA. SAN VICENTE</td>\n",
       "      <td>NaN</td>\n",
       "      <td>CENTRO</td>\n",
       "      <td>Colisión fronto-lateral</td>\n",
       "      <td>Despejado</td>\n",
       "      <td>Turismo</td>\n",
       "      <td>Pasajero</td>\n",
       "      <td>DE 18 A 20 AÑOS</td>\n",
       "      <td>Mujer</td>\n",
       "      <td>14.0</td>\n",
       "      <td>NaN</td>\n",
       "      <td>Ileso</td>\n",
       "    </tr>\n",
       "  </tbody>\n",
       "</table>\n",
       "</div>"
      ],
      "text/plain": [
       "  Nº Expediente       FECHA   HORA                              Calle Número  \\\n",
       "0   2019S000020  01/01/2019  23:30                   CALL. FUENCARRAL    149   \n",
       "1   2019S000017  01/01/2019  22:15           CALL. OCA / CALL. PINZON    NaN   \n",
       "2   2019S000017  01/01/2019  22:15           CALL. OCA / CALL. PINZON    NaN   \n",
       "3   2019S001812  01/01/2019  21:40  CALL. BAILEN / CUSTA. SAN VICENTE    NaN   \n",
       "4   2019S001812  01/01/2019  21:40  CALL. BAILEN / CUSTA. SAN VICENTE    NaN   \n",
       "5   2019S001812  01/01/2019  21:40  CALL. BAILEN / CUSTA. SAN VICENTE    NaN   \n",
       "\n",
       "      Distrito           TIPO ACCIDENTE Estado Metereológico TIPO VEHÍCULO  \\\n",
       "0     CHAMBERÍ                    Caída            Despejado    Ciclomotor   \n",
       "1  CARABANCHEL  Colisión fronto-lateral            Despejado       Turismo   \n",
       "2  CARABANCHEL  Colisión fronto-lateral            Despejado    Ciclomotor   \n",
       "3       CENTRO  Colisión fronto-lateral            Despejado       Turismo   \n",
       "4       CENTRO  Colisión fronto-lateral            Despejado       Turismo   \n",
       "5       CENTRO  Colisión fronto-lateral            Despejado       Turismo   \n",
       "\n",
       "  TIPO PERSONA       Rango Edad    SEXO  Lesividad  \\\n",
       "0    Conductor  DE 25 A 29 AÑOS  Hombre        1.0   \n",
       "1    Conductor  DE 40 A 44 AÑOS   Mujer       14.0   \n",
       "2    Conductor  DE 35 A 39 AÑOS  Hombre        3.0   \n",
       "3    Conductor  DE 40 A 44 AÑOS  Hombre       14.0   \n",
       "4    Conductor  DE 30 A 34 AÑOS   Mujer        7.0   \n",
       "5     Pasajero  DE 18 A 20 AÑOS   Mujer       14.0   \n",
       "\n",
       "   * La correspondencia de los códigos se encuentra descrito en la estructura del fichero.  \\\n",
       "0                                                NaN                                         \n",
       "1                                                NaN                                         \n",
       "2                                                NaN                                         \n",
       "3                                                NaN                                         \n",
       "4                                                NaN                                         \n",
       "5                                                NaN                                         \n",
       "\n",
       "  Gravedad  \n",
       "0     Leve  \n",
       "1    Ileso  \n",
       "2    Grave  \n",
       "3    Ileso  \n",
       "4     Leve  \n",
       "5    Ileso  "
      ]
     },
     "execution_count": 206,
     "metadata": {},
     "output_type": "execute_result"
    }
   ],
   "source": [
    "#Creamos columna Gravedad para entender mejor los números de Lesividad\n",
    "accidentes_raw['Gravedad'] = accidentes_raw['Lesividad'].map(dict_gravedad)\n",
    "accidentes_raw.head(6)"
   ]
  },
  {
   "cell_type": "code",
   "execution_count": 207,
   "id": "5b3c5e11",
   "metadata": {},
   "outputs": [
    {
     "name": "stdout",
     "output_type": "stream",
     "text": [
      "Columna: Gravedad  -  Tipo de datos: object\n",
      "Numero de valores nulos: 0  -  Numero de valores distintos: 4\n",
      "Valores mas frecuentes:\n",
      "Ileso  38376\n",
      "Leve  12857\n",
      "Grave  539\n",
      "Fallecido  34\n"
     ]
    }
   ],
   "source": [
    "describe_columna(accidentes_raw, 'Gravedad')"
   ]
  },
  {
   "cell_type": "code",
   "execution_count": 208,
   "id": "e9ddbefd",
   "metadata": {},
   "outputs": [
    {
     "data": {
      "text/html": [
       "<div>\n",
       "<style scoped>\n",
       "    .dataframe tbody tr th:only-of-type {\n",
       "        vertical-align: middle;\n",
       "    }\n",
       "\n",
       "    .dataframe tbody tr th {\n",
       "        vertical-align: top;\n",
       "    }\n",
       "\n",
       "    .dataframe thead th {\n",
       "        text-align: right;\n",
       "    }\n",
       "</style>\n",
       "<table border=\"1\" class=\"dataframe\">\n",
       "  <thead>\n",
       "    <tr style=\"text-align: right;\">\n",
       "      <th></th>\n",
       "      <th>Nº Expediente</th>\n",
       "      <th>Fecha</th>\n",
       "      <th>Hora</th>\n",
       "      <th>Calle</th>\n",
       "      <th>Número</th>\n",
       "      <th>Distrito</th>\n",
       "      <th>Tipo Accidente</th>\n",
       "      <th>Estado Metereológico</th>\n",
       "      <th>Tipo Vehículo</th>\n",
       "      <th>Tipo Persona</th>\n",
       "      <th>Rango Edad</th>\n",
       "      <th>Sexo</th>\n",
       "      <th>Lesividad</th>\n",
       "      <th>* La correspondencia de los códigos se encuentra descrito en la estructura del fichero.</th>\n",
       "      <th>Gravedad</th>\n",
       "    </tr>\n",
       "  </thead>\n",
       "  <tbody>\n",
       "    <tr>\n",
       "      <th>0</th>\n",
       "      <td>2019S000020</td>\n",
       "      <td>01/01/2019</td>\n",
       "      <td>23:30</td>\n",
       "      <td>CALL. FUENCARRAL</td>\n",
       "      <td>149</td>\n",
       "      <td>CHAMBERÍ</td>\n",
       "      <td>Caída</td>\n",
       "      <td>Despejado</td>\n",
       "      <td>Ciclomotor</td>\n",
       "      <td>Conductor</td>\n",
       "      <td>DE 25 A 29 AÑOS</td>\n",
       "      <td>Hombre</td>\n",
       "      <td>1.0</td>\n",
       "      <td>NaN</td>\n",
       "      <td>Leve</td>\n",
       "    </tr>\n",
       "    <tr>\n",
       "      <th>1</th>\n",
       "      <td>2019S000017</td>\n",
       "      <td>01/01/2019</td>\n",
       "      <td>22:15</td>\n",
       "      <td>CALL. OCA / CALL. PINZON</td>\n",
       "      <td>NaN</td>\n",
       "      <td>CARABANCHEL</td>\n",
       "      <td>Colisión fronto-lateral</td>\n",
       "      <td>Despejado</td>\n",
       "      <td>Turismo</td>\n",
       "      <td>Conductor</td>\n",
       "      <td>DE 40 A 44 AÑOS</td>\n",
       "      <td>Mujer</td>\n",
       "      <td>14.0</td>\n",
       "      <td>NaN</td>\n",
       "      <td>Ileso</td>\n",
       "    </tr>\n",
       "  </tbody>\n",
       "</table>\n",
       "</div>"
      ],
      "text/plain": [
       "  Nº Expediente       Fecha   Hora                     Calle Número  \\\n",
       "0   2019S000020  01/01/2019  23:30          CALL. FUENCARRAL    149   \n",
       "1   2019S000017  01/01/2019  22:15  CALL. OCA / CALL. PINZON    NaN   \n",
       "\n",
       "      Distrito           Tipo Accidente Estado Metereológico Tipo Vehículo  \\\n",
       "0     CHAMBERÍ                    Caída            Despejado    Ciclomotor   \n",
       "1  CARABANCHEL  Colisión fronto-lateral            Despejado       Turismo   \n",
       "\n",
       "  Tipo Persona       Rango Edad    Sexo  Lesividad  \\\n",
       "0    Conductor  DE 25 A 29 AÑOS  Hombre        1.0   \n",
       "1    Conductor  DE 40 A 44 AÑOS   Mujer       14.0   \n",
       "\n",
       "   * La correspondencia de los códigos se encuentra descrito en la estructura del fichero.  \\\n",
       "0                                                NaN                                         \n",
       "1                                                NaN                                         \n",
       "\n",
       "  Gravedad  \n",
       "0     Leve  \n",
       "1    Ileso  "
      ]
     },
     "execution_count": 208,
     "metadata": {},
     "output_type": "execute_result"
    }
   ],
   "source": [
    "#Terminamos de cambiar el nombre de todas las columnas\n",
    "accidentes_raw.rename(columns={'FECHA': 'Fecha', 'HORA': 'Hora', 'TIPO ACCIDENTE': 'Tipo Accidente', 'TIPO VEHÍCULO': 'Tipo Vehículo', 'TIPO PERSONA': 'Tipo Persona', 'SEXO': 'Sexo'}, inplace=True)\n",
    "accidentes_raw.head(2)"
   ]
  },
  {
   "cell_type": "markdown",
   "id": "b498ba42",
   "metadata": {},
   "source": [
    "# Comprobación y Análisis"
   ]
  },
  {
   "cell_type": "markdown",
   "id": "7950ec49",
   "metadata": {},
   "source": [
    "##### Una vez limpiados los datos, podemos comprobar el dataframe generado"
   ]
  },
  {
   "cell_type": "code",
   "execution_count": 209,
   "id": "96e03c46",
   "metadata": {},
   "outputs": [
    {
     "name": "stdout",
     "output_type": "stream",
     "text": [
      "<class 'pandas.core.frame.DataFrame'>\n",
      "RangeIndex: 51806 entries, 0 to 51805\n",
      "Data columns (total 15 columns):\n",
      " #   Column                                                                                   Non-Null Count  Dtype   \n",
      "---  ------                                                                                   --------------  -----   \n",
      " 0   Nº Expediente                                                                            51806 non-null  object  \n",
      " 1   Fecha                                                                                    51806 non-null  object  \n",
      " 2   Hora                                                                                     51806 non-null  object  \n",
      " 3   Calle                                                                                    51806 non-null  object  \n",
      " 4   Número                                                                                   23279 non-null  object  \n",
      " 5   Distrito                                                                                 51801 non-null  category\n",
      " 6   Tipo Accidente                                                                           51804 non-null  object  \n",
      " 7   Estado Metereológico                                                                     45979 non-null  object  \n",
      " 8   Tipo Vehículo                                                                            51628 non-null  object  \n",
      " 9   Tipo Persona                                                                             51781 non-null  object  \n",
      " 10  Rango Edad                                                                               46473 non-null  object  \n",
      " 11  Sexo                                                                                     46756 non-null  object  \n",
      " 12  Lesividad                                                                                51806 non-null  float64 \n",
      " 13  * La correspondencia de los códigos se encuentra descrito en la estructura del fichero.  0 non-null      float64 \n",
      " 14  Gravedad                                                                                 51806 non-null  object  \n",
      "dtypes: category(1), float64(2), object(12)\n",
      "memory usage: 5.6+ MB\n"
     ]
    }
   ],
   "source": [
    "accidentes_raw.info()"
   ]
  },
  {
   "cell_type": "markdown",
   "id": "6cb56177",
   "metadata": {},
   "source": [
    "¿Cuántos accidentes hubo en Madrid en 2019 por cada tipo de vehículo? ¿Cuántas personas se vieron involucradas y en qué rol?"
   ]
  },
  {
   "cell_type": "code",
   "execution_count": 210,
   "id": "7b5a3146",
   "metadata": {},
   "outputs": [],
   "source": [
    "top10_vehiculos = accidentes_raw['Tipo Vehículo'].value_counts()[:10].index.tolist()"
   ]
  },
  {
   "cell_type": "code",
   "execution_count": 211,
   "id": "3a0cf511",
   "metadata": {},
   "outputs": [
    {
     "data": {
      "text/html": [
       "<div>\n",
       "<style scoped>\n",
       "    .dataframe tbody tr th:only-of-type {\n",
       "        vertical-align: middle;\n",
       "    }\n",
       "\n",
       "    .dataframe tbody tr th {\n",
       "        vertical-align: top;\n",
       "    }\n",
       "\n",
       "    .dataframe thead th {\n",
       "        text-align: right;\n",
       "    }\n",
       "</style>\n",
       "<table border=\"1\" class=\"dataframe\">\n",
       "  <thead>\n",
       "    <tr style=\"text-align: right;\">\n",
       "      <th>Tipo Persona</th>\n",
       "      <th>Conductor</th>\n",
       "      <th>Pasajero</th>\n",
       "      <th>Peatón</th>\n",
       "    </tr>\n",
       "    <tr>\n",
       "      <th>Tipo Vehículo</th>\n",
       "      <th></th>\n",
       "      <th></th>\n",
       "      <th></th>\n",
       "    </tr>\n",
       "  </thead>\n",
       "  <tbody>\n",
       "    <tr>\n",
       "      <th>Turismo</th>\n",
       "      <td>28523.0</td>\n",
       "      <td>6734.0</td>\n",
       "      <td>1224.0</td>\n",
       "    </tr>\n",
       "    <tr>\n",
       "      <th>Motocicleta &gt; 125cc</th>\n",
       "      <td>3179.0</td>\n",
       "      <td>232.0</td>\n",
       "      <td>115.0</td>\n",
       "    </tr>\n",
       "    <tr>\n",
       "      <th>Furgoneta</th>\n",
       "      <td>2616.0</td>\n",
       "      <td>371.0</td>\n",
       "      <td>135.0</td>\n",
       "    </tr>\n",
       "    <tr>\n",
       "      <th>Motocicleta hasta 125cc</th>\n",
       "      <td>2282.0</td>\n",
       "      <td>166.0</td>\n",
       "      <td>80.0</td>\n",
       "    </tr>\n",
       "    <tr>\n",
       "      <th>Autobús</th>\n",
       "      <td>893.0</td>\n",
       "      <td>467.0</td>\n",
       "      <td>47.0</td>\n",
       "    </tr>\n",
       "    <tr>\n",
       "      <th>Camión rígido</th>\n",
       "      <td>1040.0</td>\n",
       "      <td>98.0</td>\n",
       "      <td>29.0</td>\n",
       "    </tr>\n",
       "    <tr>\n",
       "      <th>Bicicleta</th>\n",
       "      <td>800.0</td>\n",
       "      <td>5.0</td>\n",
       "      <td>79.0</td>\n",
       "    </tr>\n",
       "    <tr>\n",
       "      <th>Ciclomotor</th>\n",
       "      <td>726.0</td>\n",
       "      <td>64.0</td>\n",
       "      <td>18.0</td>\n",
       "    </tr>\n",
       "    <tr>\n",
       "      <th>Todo terreno</th>\n",
       "      <td>539.0</td>\n",
       "      <td>120.0</td>\n",
       "      <td>30.0</td>\n",
       "    </tr>\n",
       "    <tr>\n",
       "      <th>Otros vehículos con motor</th>\n",
       "      <td>283.0</td>\n",
       "      <td>26.0</td>\n",
       "      <td>21.0</td>\n",
       "    </tr>\n",
       "  </tbody>\n",
       "</table>\n",
       "</div>"
      ],
      "text/plain": [
       "Tipo Persona               Conductor  Pasajero  Peatón\n",
       "Tipo Vehículo                                         \n",
       "Turismo                      28523.0    6734.0  1224.0\n",
       "Motocicleta > 125cc           3179.0     232.0   115.0\n",
       "Furgoneta                     2616.0     371.0   135.0\n",
       "Motocicleta hasta 125cc       2282.0     166.0    80.0\n",
       "Autobús                        893.0     467.0    47.0\n",
       "Camión rígido                 1040.0      98.0    29.0\n",
       "Bicicleta                      800.0       5.0    79.0\n",
       "Ciclomotor                     726.0      64.0    18.0\n",
       "Todo terreno                   539.0     120.0    30.0\n",
       "Otros vehículos con motor      283.0      26.0    21.0"
      ]
     },
     "execution_count": 211,
     "metadata": {},
     "output_type": "execute_result"
    }
   ],
   "source": [
    "acc = accidentes_raw.groupby(['Tipo Vehículo', 'Tipo Persona'])['Nº Expediente'].count().unstack().loc[top10_vehiculos]\n",
    "acc"
   ]
  },
  {
   "cell_type": "markdown",
   "id": "f60a1089",
   "metadata": {},
   "source": [
    "Porcentaje de accidentados por tipo vehículo y sexo"
   ]
  },
  {
   "cell_type": "code",
   "execution_count": 212,
   "id": "fed5fd0f",
   "metadata": {},
   "outputs": [
    {
     "data": {
      "text/html": [
       "<style  type=\"text/css\" >\n",
       "</style><table id=\"T_0870580a_c077_11ee_b615_50c2e8df5136\" ><thead>    <tr>        <th class=\"index_name level0\" >Sexo</th>        <th class=\"col_heading level0 col0\" >Hombre</th>        <th class=\"col_heading level0 col1\" >Mujer</th>    </tr>    <tr>        <th class=\"index_name level0\" >Tipo Vehículo</th>        <th class=\"blank\" ></th>        <th class=\"blank\" ></th>    </tr></thead><tbody>\n",
       "                <tr>\n",
       "                        <th id=\"T_0870580a_c077_11ee_b615_50c2e8df5136level0_row0\" class=\"row_heading level0 row0\" >Turismo</th>\n",
       "                        <td id=\"T_0870580a_c077_11ee_b615_50c2e8df5136row0_col0\" class=\"data row0 col0\" >61.52%</td>\n",
       "                        <td id=\"T_0870580a_c077_11ee_b615_50c2e8df5136row0_col1\" class=\"data row0 col1\" >38.48%</td>\n",
       "            </tr>\n",
       "            <tr>\n",
       "                        <th id=\"T_0870580a_c077_11ee_b615_50c2e8df5136level0_row1\" class=\"row_heading level0 row1\" >Motocicleta > 125cc</th>\n",
       "                        <td id=\"T_0870580a_c077_11ee_b615_50c2e8df5136row1_col0\" class=\"data row1 col0\" >83.99%</td>\n",
       "                        <td id=\"T_0870580a_c077_11ee_b615_50c2e8df5136row1_col1\" class=\"data row1 col1\" >16.01%</td>\n",
       "            </tr>\n",
       "            <tr>\n",
       "                        <th id=\"T_0870580a_c077_11ee_b615_50c2e8df5136level0_row2\" class=\"row_heading level0 row2\" >Furgoneta</th>\n",
       "                        <td id=\"T_0870580a_c077_11ee_b615_50c2e8df5136row2_col0\" class=\"data row2 col0\" >85.67%</td>\n",
       "                        <td id=\"T_0870580a_c077_11ee_b615_50c2e8df5136row2_col1\" class=\"data row2 col1\" >14.33%</td>\n",
       "            </tr>\n",
       "            <tr>\n",
       "                        <th id=\"T_0870580a_c077_11ee_b615_50c2e8df5136level0_row3\" class=\"row_heading level0 row3\" >Motocicleta hasta 125cc</th>\n",
       "                        <td id=\"T_0870580a_c077_11ee_b615_50c2e8df5136row3_col0\" class=\"data row3 col0\" >76.98%</td>\n",
       "                        <td id=\"T_0870580a_c077_11ee_b615_50c2e8df5136row3_col1\" class=\"data row3 col1\" >23.02%</td>\n",
       "            </tr>\n",
       "            <tr>\n",
       "                        <th id=\"T_0870580a_c077_11ee_b615_50c2e8df5136level0_row4\" class=\"row_heading level0 row4\" >Autobús</th>\n",
       "                        <td id=\"T_0870580a_c077_11ee_b615_50c2e8df5136row4_col0\" class=\"data row4 col0\" >69.13%</td>\n",
       "                        <td id=\"T_0870580a_c077_11ee_b615_50c2e8df5136row4_col1\" class=\"data row4 col1\" >30.87%</td>\n",
       "            </tr>\n",
       "            <tr>\n",
       "                        <th id=\"T_0870580a_c077_11ee_b615_50c2e8df5136level0_row5\" class=\"row_heading level0 row5\" >Camión rígido</th>\n",
       "                        <td id=\"T_0870580a_c077_11ee_b615_50c2e8df5136row5_col0\" class=\"data row5 col0\" >94.61%</td>\n",
       "                        <td id=\"T_0870580a_c077_11ee_b615_50c2e8df5136row5_col1\" class=\"data row5 col1\" >5.39%</td>\n",
       "            </tr>\n",
       "            <tr>\n",
       "                        <th id=\"T_0870580a_c077_11ee_b615_50c2e8df5136level0_row6\" class=\"row_heading level0 row6\" >Bicicleta</th>\n",
       "                        <td id=\"T_0870580a_c077_11ee_b615_50c2e8df5136row6_col0\" class=\"data row6 col0\" >74.34%</td>\n",
       "                        <td id=\"T_0870580a_c077_11ee_b615_50c2e8df5136row6_col1\" class=\"data row6 col1\" >25.66%</td>\n",
       "            </tr>\n",
       "            <tr>\n",
       "                        <th id=\"T_0870580a_c077_11ee_b615_50c2e8df5136level0_row7\" class=\"row_heading level0 row7\" >Ciclomotor</th>\n",
       "                        <td id=\"T_0870580a_c077_11ee_b615_50c2e8df5136row7_col0\" class=\"data row7 col0\" >75.03%</td>\n",
       "                        <td id=\"T_0870580a_c077_11ee_b615_50c2e8df5136row7_col1\" class=\"data row7 col1\" >24.97%</td>\n",
       "            </tr>\n",
       "            <tr>\n",
       "                        <th id=\"T_0870580a_c077_11ee_b615_50c2e8df5136level0_row8\" class=\"row_heading level0 row8\" >Todo terreno</th>\n",
       "                        <td id=\"T_0870580a_c077_11ee_b615_50c2e8df5136row8_col0\" class=\"data row8 col0\" >66.61%</td>\n",
       "                        <td id=\"T_0870580a_c077_11ee_b615_50c2e8df5136row8_col1\" class=\"data row8 col1\" >33.39%</td>\n",
       "            </tr>\n",
       "            <tr>\n",
       "                        <th id=\"T_0870580a_c077_11ee_b615_50c2e8df5136level0_row9\" class=\"row_heading level0 row9\" >Otros vehículos con motor</th>\n",
       "                        <td id=\"T_0870580a_c077_11ee_b615_50c2e8df5136row9_col0\" class=\"data row9 col0\" >71.02%</td>\n",
       "                        <td id=\"T_0870580a_c077_11ee_b615_50c2e8df5136row9_col1\" class=\"data row9 col1\" >28.98%</td>\n",
       "            </tr>\n",
       "    </tbody></table>"
      ],
      "text/plain": [
       "<pandas.io.formats.style.Styler at 0x26b4cbc3fc8>"
      ]
     },
     "execution_count": 212,
     "metadata": {},
     "output_type": "execute_result"
    }
   ],
   "source": [
    "acc_sex = accidentes_raw.groupby(['Tipo Vehículo', 'Sexo'])['Nº Expediente'].count().unstack().loc[top10_vehiculos]\n",
    "acc_sex.apply(lambda x: x/x.sum(), axis=1).style.format(\"{:.2%}\")"
   ]
  },
  {
   "cell_type": "markdown",
   "id": "22f2ad88",
   "metadata": {},
   "source": [
    "Accidentados por sexo y rango de edad"
   ]
  },
  {
   "cell_type": "code",
   "execution_count": 213,
   "id": "7cd0179c",
   "metadata": {},
   "outputs": [
    {
     "data": {
      "text/html": [
       "<div>\n",
       "<style scoped>\n",
       "    .dataframe tbody tr th:only-of-type {\n",
       "        vertical-align: middle;\n",
       "    }\n",
       "\n",
       "    .dataframe tbody tr th {\n",
       "        vertical-align: top;\n",
       "    }\n",
       "\n",
       "    .dataframe thead th {\n",
       "        text-align: right;\n",
       "    }\n",
       "</style>\n",
       "<table border=\"1\" class=\"dataframe\">\n",
       "  <thead>\n",
       "    <tr style=\"text-align: right;\">\n",
       "      <th>Rango Edad</th>\n",
       "      <th>DE 40 A 44 AÑOS</th>\n",
       "      <th>DE 25 A 29 AÑOS</th>\n",
       "      <th>DE 35 A 39 AÑOS</th>\n",
       "      <th>DE 30 A 34 AÑOS</th>\n",
       "      <th>DE 45 A 49 AÑOS</th>\n",
       "      <th>DE 50 A 54 AÑOS</th>\n",
       "      <th>DE 21 A 24 AÑOS</th>\n",
       "      <th>DE 55 A 59 AÑOS</th>\n",
       "      <th>DE 60 A 64 AÑOS</th>\n",
       "      <th>DE 18 A 20 AÑOS</th>\n",
       "      <th>MAYOR DE 74 AÑOS</th>\n",
       "      <th>DE 65 A 69 AÑOS</th>\n",
       "      <th>DE 70 A 74 AÑOS</th>\n",
       "      <th>DE 0 A 5 AÑOS</th>\n",
       "      <th>DE 10 A 14 AÑOS</th>\n",
       "      <th>DE 6 A 9 AÑOS</th>\n",
       "      <th>DE 15 A 17 AÑOS</th>\n",
       "    </tr>\n",
       "    <tr>\n",
       "      <th>Sexo</th>\n",
       "      <th></th>\n",
       "      <th></th>\n",
       "      <th></th>\n",
       "      <th></th>\n",
       "      <th></th>\n",
       "      <th></th>\n",
       "      <th></th>\n",
       "      <th></th>\n",
       "      <th></th>\n",
       "      <th></th>\n",
       "      <th></th>\n",
       "      <th></th>\n",
       "      <th></th>\n",
       "      <th></th>\n",
       "      <th></th>\n",
       "      <th></th>\n",
       "      <th></th>\n",
       "    </tr>\n",
       "  </thead>\n",
       "  <tbody>\n",
       "    <tr>\n",
       "      <th>Hombre</th>\n",
       "      <td>4022</td>\n",
       "      <td>3620</td>\n",
       "      <td>3829</td>\n",
       "      <td>3637</td>\n",
       "      <td>3381</td>\n",
       "      <td>3014</td>\n",
       "      <td>2258</td>\n",
       "      <td>2350</td>\n",
       "      <td>1443</td>\n",
       "      <td>991</td>\n",
       "      <td>707</td>\n",
       "      <td>662</td>\n",
       "      <td>452</td>\n",
       "      <td>283</td>\n",
       "      <td>242</td>\n",
       "      <td>191</td>\n",
       "      <td>185</td>\n",
       "    </tr>\n",
       "    <tr>\n",
       "      <th>Mujer</th>\n",
       "      <td>1714</td>\n",
       "      <td>1989</td>\n",
       "      <td>1744</td>\n",
       "      <td>1825</td>\n",
       "      <td>1574</td>\n",
       "      <td>1244</td>\n",
       "      <td>1092</td>\n",
       "      <td>915</td>\n",
       "      <td>593</td>\n",
       "      <td>543</td>\n",
       "      <td>489</td>\n",
       "      <td>372</td>\n",
       "      <td>278</td>\n",
       "      <td>237</td>\n",
       "      <td>251</td>\n",
       "      <td>184</td>\n",
       "      <td>159</td>\n",
       "    </tr>\n",
       "  </tbody>\n",
       "</table>\n",
       "</div>"
      ],
      "text/plain": [
       "Rango Edad  DE 40 A 44 AÑOS  DE 25 A 29 AÑOS  DE 35 A 39 AÑOS  \\\n",
       "Sexo                                                            \n",
       "Hombre                 4022             3620             3829   \n",
       "Mujer                  1714             1989             1744   \n",
       "\n",
       "Rango Edad  DE 30 A 34 AÑOS  DE 45 A 49 AÑOS  DE 50 A 54 AÑOS  \\\n",
       "Sexo                                                            \n",
       "Hombre                 3637             3381             3014   \n",
       "Mujer                  1825             1574             1244   \n",
       "\n",
       "Rango Edad  DE 21 A 24 AÑOS  DE 55 A 59 AÑOS  DE 60 A 64 AÑOS  \\\n",
       "Sexo                                                            \n",
       "Hombre                 2258             2350             1443   \n",
       "Mujer                  1092              915              593   \n",
       "\n",
       "Rango Edad  DE 18 A 20 AÑOS  MAYOR DE 74 AÑOS  DE 65 A 69 AÑOS  \\\n",
       "Sexo                                                             \n",
       "Hombre                  991               707              662   \n",
       "Mujer                   543               489              372   \n",
       "\n",
       "Rango Edad  DE 70 A 74 AÑOS  DE 0 A 5 AÑOS  DE 10 A 14 AÑOS  DE 6 A 9 AÑOS  \\\n",
       "Sexo                                                                         \n",
       "Hombre                  452            283              242            191   \n",
       "Mujer                   278            237              251            184   \n",
       "\n",
       "Rango Edad  DE 15 A 17 AÑOS  \n",
       "Sexo                         \n",
       "Hombre                  185  \n",
       "Mujer                   159  "
      ]
     },
     "execution_count": 213,
     "metadata": {},
     "output_type": "execute_result"
    }
   ],
   "source": [
    "\n",
    "acc_sex_edad = accidentes_raw.groupby(['Sexo', 'Rango Edad'])['Nº Expediente'].count().unstack()\n",
    "acc_sex_edad_sorted = acc_sex_edad.sum(axis=0).sort_values(ascending=False)\n",
    "acc_sex_edad_sorted = acc_sex_edad[acc_sex_edad_sorted.index]\n",
    "acc_sex_edad_sorted"
   ]
  },
  {
   "cell_type": "markdown",
   "id": "255429a0",
   "metadata": {},
   "source": [
    "Accidentados por distrito"
   ]
  },
  {
   "cell_type": "code",
   "execution_count": 216,
   "id": "31274808",
   "metadata": {},
   "outputs": [
    {
     "data": {
      "text/html": [
       "<div>\n",
       "<style scoped>\n",
       "    .dataframe tbody tr th:only-of-type {\n",
       "        vertical-align: middle;\n",
       "    }\n",
       "\n",
       "    .dataframe tbody tr th {\n",
       "        vertical-align: top;\n",
       "    }\n",
       "\n",
       "    .dataframe thead th {\n",
       "        text-align: right;\n",
       "    }\n",
       "</style>\n",
       "<table border=\"1\" class=\"dataframe\">\n",
       "  <thead>\n",
       "    <tr style=\"text-align: right;\">\n",
       "      <th></th>\n",
       "      <th>Distrito</th>\n",
       "      <th>Nº Accidentes</th>\n",
       "    </tr>\n",
       "  </thead>\n",
       "  <tbody>\n",
       "    <tr>\n",
       "      <th>0</th>\n",
       "      <td>SALAMANCA</td>\n",
       "      <td>4078</td>\n",
       "    </tr>\n",
       "    <tr>\n",
       "      <th>1</th>\n",
       "      <td>PUENTE DE VALLECAS</td>\n",
       "      <td>4063</td>\n",
       "    </tr>\n",
       "    <tr>\n",
       "      <th>2</th>\n",
       "      <td>CHAMARTÍN</td>\n",
       "      <td>3891</td>\n",
       "    </tr>\n",
       "    <tr>\n",
       "      <th>3</th>\n",
       "      <td>CARABANCHEL</td>\n",
       "      <td>3365</td>\n",
       "    </tr>\n",
       "    <tr>\n",
       "      <th>4</th>\n",
       "      <td>CIUDAD LINEAL</td>\n",
       "      <td>3362</td>\n",
       "    </tr>\n",
       "    <tr>\n",
       "      <th>5</th>\n",
       "      <td>SAN BLAS-CANILLEJAS</td>\n",
       "      <td>2797</td>\n",
       "    </tr>\n",
       "    <tr>\n",
       "      <th>6</th>\n",
       "      <td>CENTRO</td>\n",
       "      <td>2752</td>\n",
       "    </tr>\n",
       "    <tr>\n",
       "      <th>7</th>\n",
       "      <td>MONCLOA-ARAVACA</td>\n",
       "      <td>2688</td>\n",
       "    </tr>\n",
       "    <tr>\n",
       "      <th>8</th>\n",
       "      <td>CHAMBERÍ</td>\n",
       "      <td>2680</td>\n",
       "    </tr>\n",
       "    <tr>\n",
       "      <th>9</th>\n",
       "      <td>RETIRO</td>\n",
       "      <td>2671</td>\n",
       "    </tr>\n",
       "    <tr>\n",
       "      <th>10</th>\n",
       "      <td>LATINA</td>\n",
       "      <td>2528</td>\n",
       "    </tr>\n",
       "    <tr>\n",
       "      <th>11</th>\n",
       "      <td>FUENCARRAL-EL PARDO</td>\n",
       "      <td>2468</td>\n",
       "    </tr>\n",
       "    <tr>\n",
       "      <th>12</th>\n",
       "      <td>TETUÁN</td>\n",
       "      <td>2382</td>\n",
       "    </tr>\n",
       "    <tr>\n",
       "      <th>13</th>\n",
       "      <td>ARGANZUELA</td>\n",
       "      <td>2271</td>\n",
       "    </tr>\n",
       "    <tr>\n",
       "      <th>14</th>\n",
       "      <td>HORTALEZA</td>\n",
       "      <td>2025</td>\n",
       "    </tr>\n",
       "    <tr>\n",
       "      <th>15</th>\n",
       "      <td>USERA</td>\n",
       "      <td>1794</td>\n",
       "    </tr>\n",
       "    <tr>\n",
       "      <th>16</th>\n",
       "      <td>MORATALAZ</td>\n",
       "      <td>1530</td>\n",
       "    </tr>\n",
       "    <tr>\n",
       "      <th>17</th>\n",
       "      <td>VILLAVERDE</td>\n",
       "      <td>1421</td>\n",
       "    </tr>\n",
       "    <tr>\n",
       "      <th>18</th>\n",
       "      <td>VILLA DE VALLECAS</td>\n",
       "      <td>1299</td>\n",
       "    </tr>\n",
       "    <tr>\n",
       "      <th>19</th>\n",
       "      <td>BARAJAS</td>\n",
       "      <td>1071</td>\n",
       "    </tr>\n",
       "    <tr>\n",
       "      <th>20</th>\n",
       "      <td>VICÁLVARO</td>\n",
       "      <td>665</td>\n",
       "    </tr>\n",
       "  </tbody>\n",
       "</table>\n",
       "</div>"
      ],
      "text/plain": [
       "               Distrito  Nº Accidentes\n",
       "0             SALAMANCA           4078\n",
       "1    PUENTE DE VALLECAS           4063\n",
       "2             CHAMARTÍN           3891\n",
       "3           CARABANCHEL           3365\n",
       "4         CIUDAD LINEAL           3362\n",
       "5   SAN BLAS-CANILLEJAS           2797\n",
       "6                CENTRO           2752\n",
       "7       MONCLOA-ARAVACA           2688\n",
       "8              CHAMBERÍ           2680\n",
       "9                RETIRO           2671\n",
       "10               LATINA           2528\n",
       "11  FUENCARRAL-EL PARDO           2468\n",
       "12               TETUÁN           2382\n",
       "13           ARGANZUELA           2271\n",
       "14            HORTALEZA           2025\n",
       "15                USERA           1794\n",
       "16            MORATALAZ           1530\n",
       "17           VILLAVERDE           1421\n",
       "18    VILLA DE VALLECAS           1299\n",
       "19              BARAJAS           1071\n",
       "20            VICÁLVARO            665"
      ]
     },
     "execution_count": 216,
     "metadata": {},
     "output_type": "execute_result"
    }
   ],
   "source": [
    "acc_distrito = accidentes_raw.groupby('Distrito')['Nº Expediente'].count().sort_values(ascending=False).reset_index()\n",
    "acc_distrito.rename(columns={'Nº Expediente': 'Nº Accidentes'}, inplace=True)\n",
    "acc_distrito"
   ]
  },
  {
   "cell_type": "code",
   "execution_count": 224,
   "id": "c4a5ec15",
   "metadata": {},
   "outputs": [
    {
     "data": {
      "text/plain": [
       "Text(0, 0.5, 'Distrito')"
      ]
     },
     "execution_count": 224,
     "metadata": {},
     "output_type": "execute_result"
    },
    {
     "data": {
      "image/png": "[encoded data removed]",
      "text/plain": [
       "<Figure size 640x480 with 1 Axes>"
      ]
     },
     "metadata": {},
     "output_type": "display_data"
    }
   ],
   "source": [
    "sns.barplot(acc_distrito, x='Nº Accidentes', y='Distrito', palette='viridis')\n",
    "plt.title('Nº de Accidentes por Distrito')\n",
    "plt.xlabel('Nº Accidentes')\n",
    "plt.ylabel('Distrito')"
   ]
  }
 ],
 "metadata": {
  "kernelspec": {
   "display_name": "Python 3 (ipykernel)",
   "language": "python",
   "name": "python3"
  },
  "language_info": {
   "codemirror_mode": {
    "name": "ipython",
    "version": 3
   },
   "file_extension": ".py",
   "mimetype": "text/x-python",
   "name": "python",
   "nbconvert_exporter": "python",
   "pygments_lexer": "ipython3",
   "version": "3.7.12"
  }
 },
 "nbformat": 4,
 "nbformat_minor": 5
}
